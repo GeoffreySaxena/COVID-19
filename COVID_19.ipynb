{
  "nbformat": 4,
  "nbformat_minor": 0,
  "metadata": {
    "colab": {
      "name": "COVID-19.ipynb",
      "provenance": [],
      "collapsed_sections": []
    },
    "kernelspec": {
      "name": "python3",
      "display_name": "Python 3"
    },
    "accelerator": "GPU"
  },
  "cells": [
    {
      "cell_type": "code",
      "metadata": {
        "id": "kyDNnI6ItPM6",
        "colab_type": "code",
        "colab": {}
      },
      "source": [
        "import pandas as pd\n",
        "import numpy as np\n",
        "import matplotlib.pyplot as plt\n",
        "import os\n",
        "import zipfile\n",
        "import io\n",
        "import matplotlib.pyplot as plt\n",
        " \n",
        "from google.colab import files\n",
        "from tensorflow.keras.models import Model, Sequential\n",
        "from tensorflow.keras.preprocessing.image import img_to_array, load_img\n",
        "from tensorflow.keras.layers import Input, Dense, Flatten\n",
        "from tensorflow.keras.layers import Conv2D, MaxPool2D, LeakyReLU, Activation\n",
        "from tensorflow.keras.optimizers import Adam, RMSprop\n",
        "from tensorflow.keras.preprocessing.image import ImageDataGenerator\n",
        "import tensorflow as tf\n",
        " \n",
        "%matplotlib inline\n",
        "\n",
        "from pydrive.auth import GoogleAuth\n",
        "from pydrive.drive import GoogleDrive\n",
        "from google.colab import auth\n",
        "from oauth2client.client import GoogleCredentials"
      ],
      "execution_count": 0,
      "outputs": []
    },
    {
      "cell_type": "code",
      "metadata": {
        "id": "y2_n3R-XvILR",
        "colab_type": "code",
        "colab": {
          "base_uri": "https://localhost:8080/",
          "height": 121
        },
        "outputId": "e5edd0c8-8478-45dd-fd86-7d72a93e4807"
      },
      "source": [
        "from google.colab import drive\n",
        "drive.mount('/content/drive')"
      ],
      "execution_count": 1,
      "outputs": [
        {
          "output_type": "stream",
          "text": [
            "Go to this URL in a browser: https://accounts.google.com/o/oauth2/auth?client_id=947318989803-6bn6qk8qdgf4n4g3pfee6491hc0brc4i.apps.googleusercontent.com&redirect_uri=urn%3aietf%3awg%3aoauth%3a2.0%3aoob&response_type=code&scope=email%20https%3a%2f%2fwww.googleapis.com%2fauth%2fdocs.test%20https%3a%2f%2fwww.googleapis.com%2fauth%2fdrive%20https%3a%2f%2fwww.googleapis.com%2fauth%2fdrive.photos.readonly%20https%3a%2f%2fwww.googleapis.com%2fauth%2fpeopleapi.readonly\n",
            "\n",
            "Enter your authorization code:\n",
            "··········\n",
            "Mounted at /content/drive\n"
          ],
          "name": "stdout"
        }
      ]
    },
    {
      "cell_type": "code",
      "metadata": {
        "id": "2u4-rOiXtNLy",
        "colab_type": "code",
        "colab": {}
      },
      "source": [
        "!pip install -U -q PyDrive\n",
        "\n",
        "auth.authenticate_user()\n",
        "gauth = GoogleAuth()\n",
        "gauth.credentials = GoogleCredentials.get_application_default()\n",
        "drive = GoogleDrive(gauth)\n",
        "\n",
        "fid = drive.ListFile({'q':\"title='COVID-19.zip'\"}).GetList()[0]['id']\n",
        "f = drive.CreateFile({'id': fid})\n",
        "f.GetContentFile('COVID-19.zip')"
      ],
      "execution_count": 0,
      "outputs": []
    },
    {
      "cell_type": "code",
      "metadata": {
        "id": "jYgw_xMzlcTk",
        "colab_type": "code",
        "colab": {}
      },
      "source": [
        "local_zip = '/content/COVID-19.zip'\n",
        "\n",
        "zip_ref = zipfile.ZipFile(local_zip, 'r')\n",
        "\n",
        "zip_ref.extractall('/tmp')\n",
        "zip_ref.close()"
      ],
      "execution_count": 0,
      "outputs": []
    },
    {
      "cell_type": "code",
      "metadata": {
        "colab_type": "code",
        "id": "RXZT2UsyIVe_",
        "outputId": "dd6f3cf2-638b-4f20-c31f-e7acfe2f55d2",
        "colab": {
          "base_uri": "https://localhost:8080/",
          "height": 84
        }
      },
      "source": [
        "train_normal_dir = os.path.join('/tmp/covid19/train/normal')\n",
        "train_pneumonia_dir = os.path.join('/tmp/covid19/train/pneumonia')\n",
        "validation_normal_dir = os.path.join('/tmp/covid19/validation/normal')\n",
        "validation_pneumonia_dir = os.path.join('/tmp/covid19/validation/pneumonia')\n",
        "\n",
        "print(len(os.listdir('/tmp/covid19/train/normal')))\n",
        "print(len(os.listdir('/tmp/covid19/train/pneumonia')))\n",
        "print(len(os.listdir('/tmp/covid19/validation/normal')))\n",
        "print(len(os.listdir('/tmp/covid19/validation/pneumonia')))"
      ],
      "execution_count": 11,
      "outputs": [
        {
          "output_type": "stream",
          "text": [
            "74\n",
            "74\n",
            "20\n",
            "20\n"
          ],
          "name": "stdout"
        }
      ]
    },
    {
      "cell_type": "code",
      "metadata": {
        "id": "-hFg9anSNY_L",
        "colab_type": "code",
        "colab": {}
      },
      "source": [
        "model = tf.keras.models.Sequential([\n",
        "    tf.keras.layers.Conv2D(64, (3,3), activation='relu', input_shape=(150, 150, 3)),\n",
        "    tf.keras.layers.MaxPooling2D(2, 2),\n",
        "    tf.keras.layers.Conv2D(128, (3,3), activation='relu'),\n",
        "    tf.keras.layers.MaxPooling2D(2,2),\n",
        "    tf.keras.layers.Conv2D(256, (3,3), activation='relu'),\n",
        "    tf.keras.layers.MaxPooling2D(2,2),\n",
        "    tf.keras.layers.Flatten(),\n",
        "    tf.keras.layers.Dense(512, activation='relu'),\n",
        "    tf.keras.layers.Dense(1, activation='sigmoid')])\n",
        "\n",
        "model.compile(optimizer=RMSprop(lr=0.001), loss='binary_crossentropy', metrics=['acc'])"
      ],
      "execution_count": 0,
      "outputs": []
    },
    {
      "cell_type": "code",
      "metadata": {
        "id": "PMYcgF3nQsIV",
        "colab_type": "code",
        "outputId": "3aa66456-2b98-475c-ffb7-2da5690c9787",
        "colab": {
          "base_uri": "https://localhost:8080/",
          "height": 50
        }
      },
      "source": [
        "training_dir = \"/tmp/covid19/train/\"\n",
        "train_datagen = ImageDataGenerator(rescale=1.0/255)\n",
        "train_generator = train_datagen.flow_from_directory(training_dir, batch_size=5, class_mode='binary', target_size=(150, 150), classes= ['normal', 'pneumonia'])\n",
        "\n",
        "validation_dir = \"/tmp/covid19/validation/\"\n",
        "validation_datagen = ImageDataGenerator(rescale=1.0/255)\n",
        "validation_generator = validation_datagen.flow_from_directory(validation_dir, batch_size=5, class_mode='binary',target_size=(150, 150), classes= ['normal', 'pneumonia'])\n"
      ],
      "execution_count": 13,
      "outputs": [
        {
          "output_type": "stream",
          "text": [
            "Found 148 images belonging to 2 classes.\n",
            "Found 40 images belonging to 2 classes.\n"
          ],
          "name": "stdout"
        }
      ]
    },
    {
      "cell_type": "code",
      "metadata": {
        "id": "pSluqySrVYqG",
        "colab_type": "code",
        "outputId": "ee094151-51e6-4591-c63f-4770daa69f39",
        "colab": {
          "base_uri": "https://localhost:8080/",
          "height": 1000
        }
      },
      "source": [
        "history = model.fit_generator(train_generator, epochs=30, verbose=1, validation_data=validation_generator)"
      ],
      "execution_count": 14,
      "outputs": [
        {
          "output_type": "stream",
          "text": [
            "WARNING:tensorflow:From <ipython-input-14-3af3b6029d2a>:1: Model.fit_generator (from tensorflow.python.keras.engine.training) is deprecated and will be removed in a future version.\n",
            "Instructions for updating:\n",
            "Please use Model.fit, which supports generators.\n",
            "Epoch 1/30\n",
            "30/30 [==============================] - 5s 183ms/step - loss: 1.3211 - acc: 0.6149 - val_loss: 0.3566 - val_acc: 0.9750\n",
            "Epoch 2/30\n",
            "30/30 [==============================] - 5s 175ms/step - loss: 0.9341 - acc: 0.8108 - val_loss: 0.1783 - val_acc: 0.9250\n",
            "Epoch 3/30\n",
            "30/30 [==============================] - 5s 180ms/step - loss: 0.8570 - acc: 0.8581 - val_loss: 0.0986 - val_acc: 1.0000\n",
            "Epoch 4/30\n",
            "30/30 [==============================] - 5s 181ms/step - loss: 0.1794 - acc: 0.9257 - val_loss: 0.0185 - val_acc: 1.0000\n",
            "Epoch 5/30\n",
            "30/30 [==============================] - 5s 175ms/step - loss: 0.1865 - acc: 0.9122 - val_loss: 0.0353 - val_acc: 1.0000\n",
            "Epoch 6/30\n",
            "30/30 [==============================] - 5s 178ms/step - loss: 0.2648 - acc: 0.9189 - val_loss: 0.0156 - val_acc: 1.0000\n",
            "Epoch 7/30\n",
            "30/30 [==============================] - 5s 176ms/step - loss: 1.6567 - acc: 0.9527 - val_loss: 0.0043 - val_acc: 1.0000\n",
            "Epoch 8/30\n",
            "30/30 [==============================] - 5s 176ms/step - loss: 0.4794 - acc: 0.9324 - val_loss: 0.0690 - val_acc: 0.9750\n",
            "Epoch 9/30\n",
            "30/30 [==============================] - 5s 179ms/step - loss: 0.0682 - acc: 0.9730 - val_loss: 0.0796 - val_acc: 0.9500\n",
            "Epoch 10/30\n",
            "30/30 [==============================] - 5s 177ms/step - loss: 0.2437 - acc: 0.9459 - val_loss: 0.0271 - val_acc: 0.9750\n",
            "Epoch 11/30\n",
            "30/30 [==============================] - 5s 177ms/step - loss: 0.1633 - acc: 0.9797 - val_loss: 0.0019 - val_acc: 1.0000\n",
            "Epoch 12/30\n",
            "30/30 [==============================] - 5s 175ms/step - loss: 2.1069 - acc: 0.9595 - val_loss: 0.0829 - val_acc: 0.9500\n",
            "Epoch 13/30\n",
            "30/30 [==============================] - 5s 175ms/step - loss: 0.0617 - acc: 0.9865 - val_loss: 0.0028 - val_acc: 1.0000\n",
            "Epoch 14/30\n",
            "30/30 [==============================] - 5s 175ms/step - loss: 0.0018 - acc: 1.0000 - val_loss: 0.0410 - val_acc: 0.9750\n",
            "Epoch 15/30\n",
            "30/30 [==============================] - 5s 175ms/step - loss: 0.0108 - acc: 0.9932 - val_loss: 0.1088 - val_acc: 0.9750\n",
            "Epoch 16/30\n",
            "30/30 [==============================] - 5s 177ms/step - loss: 0.1712 - acc: 0.9797 - val_loss: 0.0149 - val_acc: 1.0000\n",
            "Epoch 17/30\n",
            "30/30 [==============================] - 5s 174ms/step - loss: 0.1051 - acc: 0.9865 - val_loss: 7.4613e-04 - val_acc: 1.0000\n",
            "Epoch 18/30\n",
            "30/30 [==============================] - 5s 182ms/step - loss: 0.2446 - acc: 0.9595 - val_loss: 0.0200 - val_acc: 0.9750\n",
            "Epoch 19/30\n",
            "30/30 [==============================] - 5s 180ms/step - loss: 0.0474 - acc: 0.9932 - val_loss: 0.2425 - val_acc: 0.9750\n",
            "Epoch 20/30\n",
            "30/30 [==============================] - 5s 170ms/step - loss: 3.8083e-05 - acc: 1.0000 - val_loss: 0.2810 - val_acc: 0.9750\n",
            "Epoch 21/30\n",
            "30/30 [==============================] - 5s 177ms/step - loss: 5.0344e-06 - acc: 1.0000 - val_loss: 0.2933 - val_acc: 0.9750\n",
            "Epoch 22/30\n",
            "30/30 [==============================] - 5s 178ms/step - loss: 1.5854e-06 - acc: 1.0000 - val_loss: 0.3237 - val_acc: 0.9750\n",
            "Epoch 23/30\n",
            "30/30 [==============================] - 5s 177ms/step - loss: 6.5261e-07 - acc: 1.0000 - val_loss: 0.2735 - val_acc: 0.9750\n",
            "Epoch 24/30\n",
            "30/30 [==============================] - 5s 178ms/step - loss: 0.4330 - acc: 0.9730 - val_loss: 0.0063 - val_acc: 1.0000\n",
            "Epoch 25/30\n",
            "30/30 [==============================] - 5s 175ms/step - loss: 2.5928e-04 - acc: 1.0000 - val_loss: 0.0031 - val_acc: 1.0000\n",
            "Epoch 26/30\n",
            "30/30 [==============================] - 5s 179ms/step - loss: 6.8577e-05 - acc: 1.0000 - val_loss: 0.0035 - val_acc: 1.0000\n",
            "Epoch 27/30\n",
            "30/30 [==============================] - 5s 176ms/step - loss: 8.9023e-06 - acc: 1.0000 - val_loss: 0.0040 - val_acc: 1.0000\n",
            "Epoch 28/30\n",
            "30/30 [==============================] - 5s 178ms/step - loss: 2.9925e-06 - acc: 1.0000 - val_loss: 0.0055 - val_acc: 1.0000\n",
            "Epoch 29/30\n",
            "30/30 [==============================] - 5s 177ms/step - loss: 2.4503e-07 - acc: 1.0000 - val_loss: 1.8147e-04 - val_acc: 1.0000\n",
            "Epoch 30/30\n",
            "30/30 [==============================] - 5s 177ms/step - loss: 7.7022e-08 - acc: 1.0000 - val_loss: 1.8639e-04 - val_acc: 1.0000\n"
          ],
          "name": "stdout"
        }
      ]
    },
    {
      "cell_type": "code",
      "metadata": {
        "id": "__pH9DLjrbkl",
        "colab_type": "code",
        "outputId": "d4d9bf8b-6fa5-4b82-ff1f-41a4d848b0f8",
        "colab": {
          "base_uri": "https://localhost:8080/",
          "height": 562
        }
      },
      "source": [
        "acc=history.history['acc']\n",
        "val_acc=history.history['val_acc']\n",
        "loss=history.history['loss']\n",
        "val_loss=history.history['val_loss']\n",
        "\n",
        "epochs=range(len(acc)) \n",
        "\n",
        "plt.plot(epochs, acc, 'r', \"Training Accuracy\")\n",
        "plt.plot(epochs, val_acc, 'b', \"Validation Accuracy\")\n",
        "plt.title('Training and validation accuracy')\n",
        "plt.figure()\n",
        "\n",
        "plt.plot(epochs, loss, 'r', \"Training Loss\")\n",
        "plt.plot(epochs, val_loss, 'b', \"Validation Loss\")\n",
        "\n",
        "\n",
        "plt.title('Training and validation loss')"
      ],
      "execution_count": 15,
      "outputs": [
        {
          "output_type": "execute_result",
          "data": {
            "text/plain": [
              "Text(0.5, 1.0, 'Training and validation loss')"
            ]
          },
          "metadata": {
            "tags": []
          },
          "execution_count": 15
        },
        {
          "output_type": "display_data",
          "data": {
            "image/png": "[encoded data removed]",
            "text/plain": [
              "<Figure size 432x288 with 1 Axes>"
            ]
          },
          "metadata": {
            "tags": [],
            "needs_background": "light"
          }
        },
        {
          "output_type": "display_data",
          "data": {
            "image/png": "[encoded data removed]",
            "text/plain": [
              "<Figure size 432x288 with 1 Axes>"
            ]
          },
          "metadata": {
            "tags": [],
            "needs_background": "light"
          }
        }
      ]
    },
    {
      "cell_type": "code",
      "metadata": {
        "id": "5hNzkQhe4IFd",
        "colab_type": "code",
        "outputId": "3ecc00e5-530a-4aaa-e213-66464f244d47",
        "colab": {
          "base_uri": "https://localhost:8080/",
          "height": 70
        }
      },
      "source": [
        "train_normal_fnames = os.listdir('/tmp/covid19/train/normal')\n",
        "train_pneumonia_fnames = os.listdir('/tmp/covid19/train/pneumonia')\n",
        "\n",
        "print(train_normal_fnames[:10])\n",
        "print(train_pneumonia_fnames[:10])"
      ],
      "execution_count": 16,
      "outputs": [
        {
          "output_type": "stream",
          "text": [
            "['IM-0013-0001.jpeg', 'IM-0035-0001.jpeg', 'NORMAL2-IM-0028-0001.jpeg', 'IM-0083-0001.jpeg', 'IM-0009-0001.jpeg', 'IM-0043-0001.jpeg', 'IM-0025-0001.jpeg', 'IM-0084-0001.jpeg', 'IM-0111-0001.jpeg', 'IM-0017-0001.jpeg']\n",
            "['80446565-E090-4187-A031-9D3CEAA586C8.jpeg', '1-s2.0-S0140673620303706-fx1_lrg.jpg', 'ARDSSevere.png', 'nejmoa2001191_f5-PA.jpeg', 'jkms-35-e79-g001-l-b.jpg', 'covid-19-pneumonia-12.jpg', '5CBC2E94-D358-401E-8928-965CCD965C5C.jpeg', '1-s2.0-S1684118220300682-main.pdf-002-a1.png', 'F63AB6CE-1968-4154-A70F-913AF154F53D.jpeg', '7D2CF6CE-F529-4470-8356-D33FFAF98600.jpeg']\n"
          ],
          "name": "stdout"
        }
      ]
    },
    {
      "cell_type": "code",
      "metadata": {
        "id": "-DtQR-uD5B8e",
        "colab_type": "code",
        "colab": {}
      },
      "source": [
        "model_1 = tf.keras.models.Sequential([\n",
        "    tf.keras.layers.Conv2D(64, (3,3), activation='relu', input_shape=(150, 150, 3)),\n",
        "    tf.keras.layers.MaxPooling2D(2, 2),\n",
        "    tf.keras.layers.Conv2D(128, (3,3), activation='relu'),\n",
        "    tf.keras.layers.MaxPooling2D(2,2),\n",
        "    tf.keras.layers.Conv2D(256, (3,3), activation='relu'),\n",
        "    tf.keras.layers.MaxPooling2D(2,2),\n",
        "    tf.keras.layers.Flatten(),\n",
        "    tf.keras.layers.Dense(512, activation='relu'),\n",
        "    tf.keras.layers.Dense(1, activation='sigmoid')])\n",
        "\n",
        "model_1.compile(optimizer='adam', loss='binary_crossentropy', metrics=['acc'])"
      ],
      "execution_count": 0,
      "outputs": []
    },
    {
      "cell_type": "code",
      "metadata": {
        "id": "gnTq25w8kfCz",
        "colab_type": "code",
        "colab": {
          "base_uri": "https://localhost:8080/",
          "height": 50
        },
        "outputId": "4d361974-aac7-4375-9472-0fc4d26ea2ca"
      },
      "source": [
        "training_dir = \"/tmp/covid19/train/\"\n",
        "train_datagen = ImageDataGenerator(\n",
        "      rescale=1.0/255)\n",
        "train_generator = train_datagen.flow_from_directory(training_dir, batch_size=5, class_mode='binary', target_size=(150, 150), classes= ['normal', 'pneumonia'])\n",
        "\n",
        "validation_dir = \"/tmp/covid19/validation/\"\n",
        "validation_datagen = ImageDataGenerator(rescale=1.0/255)\n",
        "validation_generator = validation_datagen.flow_from_directory(validation_dir, batch_size=5, class_mode='binary',target_size=(150, 150), classes= ['normal', 'pneumonia'])"
      ],
      "execution_count": 18,
      "outputs": [
        {
          "output_type": "stream",
          "text": [
            "Found 148 images belonging to 2 classes.\n",
            "Found 40 images belonging to 2 classes.\n"
          ],
          "name": "stdout"
        }
      ]
    },
    {
      "cell_type": "code",
      "metadata": {
        "id": "Oe7hkd2Pkf_7",
        "colab_type": "code",
        "colab": {
          "base_uri": "https://localhost:8080/",
          "height": 1000
        },
        "outputId": "26c653f0-a4d8-4236-8aa0-6a3f19db2a3a"
      },
      "source": [
        "history_1 = model_1.fit_generator(train_generator, epochs=30, verbose=1, validation_data=validation_generator)"
      ],
      "execution_count": 19,
      "outputs": [
        {
          "output_type": "stream",
          "text": [
            "Epoch 1/30\n",
            "30/30 [==============================] - 5s 178ms/step - loss: 1.0305 - acc: 0.6014 - val_loss: 0.6675 - val_acc: 0.5000\n",
            "Epoch 2/30\n",
            "30/30 [==============================] - 5s 176ms/step - loss: 0.5465 - acc: 0.6824 - val_loss: 0.1034 - val_acc: 1.0000\n",
            "Epoch 3/30\n",
            "30/30 [==============================] - 5s 176ms/step - loss: 0.3100 - acc: 0.8986 - val_loss: 0.1557 - val_acc: 0.9750\n",
            "Epoch 4/30\n",
            "30/30 [==============================] - 5s 174ms/step - loss: 0.2680 - acc: 0.9122 - val_loss: 0.0413 - val_acc: 1.0000\n",
            "Epoch 5/30\n",
            "30/30 [==============================] - 5s 169ms/step - loss: 0.3998 - acc: 0.8919 - val_loss: 0.1774 - val_acc: 0.9750\n",
            "Epoch 6/30\n",
            "30/30 [==============================] - 5s 175ms/step - loss: 0.1217 - acc: 0.9595 - val_loss: 0.0428 - val_acc: 0.9750\n",
            "Epoch 7/30\n",
            "30/30 [==============================] - 5s 177ms/step - loss: 0.1149 - acc: 0.9595 - val_loss: 0.1122 - val_acc: 0.9750\n",
            "Epoch 8/30\n",
            "30/30 [==============================] - 5s 178ms/step - loss: 0.0917 - acc: 0.9662 - val_loss: 0.0342 - val_acc: 1.0000\n",
            "Epoch 9/30\n",
            "30/30 [==============================] - 5s 178ms/step - loss: 0.0272 - acc: 0.9932 - val_loss: 0.0019 - val_acc: 1.0000\n",
            "Epoch 10/30\n",
            "30/30 [==============================] - 5s 173ms/step - loss: 0.0907 - acc: 0.9662 - val_loss: 0.0386 - val_acc: 1.0000\n",
            "Epoch 11/30\n",
            "30/30 [==============================] - 5s 175ms/step - loss: 0.1472 - acc: 0.9527 - val_loss: 0.0061 - val_acc: 1.0000\n",
            "Epoch 12/30\n",
            "30/30 [==============================] - 5s 176ms/step - loss: 0.1087 - acc: 0.9797 - val_loss: 0.0034 - val_acc: 1.0000\n",
            "Epoch 13/30\n",
            "30/30 [==============================] - 5s 175ms/step - loss: 0.2584 - acc: 0.9257 - val_loss: 0.0851 - val_acc: 0.9750\n",
            "Epoch 14/30\n",
            "30/30 [==============================] - 5s 176ms/step - loss: 0.1793 - acc: 0.9257 - val_loss: 0.0178 - val_acc: 1.0000\n",
            "Epoch 15/30\n",
            "30/30 [==============================] - 5s 177ms/step - loss: 0.0736 - acc: 0.9865 - val_loss: 0.1092 - val_acc: 0.9750\n",
            "Epoch 16/30\n",
            "30/30 [==============================] - 5s 173ms/step - loss: 0.0698 - acc: 0.9730 - val_loss: 0.0788 - val_acc: 0.9750\n",
            "Epoch 17/30\n",
            "30/30 [==============================] - 5s 177ms/step - loss: 0.0479 - acc: 0.9865 - val_loss: 0.0667 - val_acc: 0.9500\n",
            "Epoch 18/30\n",
            "30/30 [==============================] - 5s 175ms/step - loss: 0.0674 - acc: 0.9797 - val_loss: 0.0210 - val_acc: 1.0000\n",
            "Epoch 19/30\n",
            "30/30 [==============================] - 5s 176ms/step - loss: 0.0432 - acc: 0.9932 - val_loss: 0.0384 - val_acc: 0.9750\n",
            "Epoch 20/30\n",
            "30/30 [==============================] - 5s 176ms/step - loss: 0.0391 - acc: 0.9865 - val_loss: 0.0077 - val_acc: 1.0000\n",
            "Epoch 21/30\n",
            "30/30 [==============================] - 5s 176ms/step - loss: 0.0213 - acc: 0.9932 - val_loss: 0.0022 - val_acc: 1.0000\n",
            "Epoch 22/30\n",
            "30/30 [==============================] - 5s 172ms/step - loss: 0.0169 - acc: 0.9932 - val_loss: 0.0052 - val_acc: 1.0000\n",
            "Epoch 23/30\n",
            "30/30 [==============================] - 5s 171ms/step - loss: 0.0164 - acc: 0.9932 - val_loss: 0.1731 - val_acc: 0.9750\n",
            "Epoch 24/30\n",
            "30/30 [==============================] - 5s 166ms/step - loss: 0.0959 - acc: 0.9662 - val_loss: 0.2591 - val_acc: 0.9250\n",
            "Epoch 25/30\n",
            "30/30 [==============================] - 5s 173ms/step - loss: 0.0516 - acc: 0.9865 - val_loss: 1.0153e-05 - val_acc: 1.0000\n",
            "Epoch 26/30\n",
            "30/30 [==============================] - 5s 174ms/step - loss: 0.1692 - acc: 0.9595 - val_loss: 0.0384 - val_acc: 0.9750\n",
            "Epoch 27/30\n",
            "30/30 [==============================] - 5s 176ms/step - loss: 0.2349 - acc: 0.9459 - val_loss: 0.0416 - val_acc: 0.9750\n",
            "Epoch 28/30\n",
            "30/30 [==============================] - 5s 175ms/step - loss: 0.0160 - acc: 0.9932 - val_loss: 0.0159 - val_acc: 1.0000\n",
            "Epoch 29/30\n",
            "30/30 [==============================] - 5s 176ms/step - loss: 0.0071 - acc: 1.0000 - val_loss: 0.0073 - val_acc: 1.0000\n",
            "Epoch 30/30\n",
            "30/30 [==============================] - 5s 171ms/step - loss: 0.0025 - acc: 1.0000 - val_loss: 0.0059 - val_acc: 1.0000\n"
          ],
          "name": "stdout"
        }
      ]
    },
    {
      "cell_type": "code",
      "metadata": {
        "id": "hCpIS6vukqIL",
        "colab_type": "code",
        "colab": {
          "base_uri": "https://localhost:8080/",
          "height": 562
        },
        "outputId": "4555753f-fbd2-4013-dd36-4ec82b632af4"
      },
      "source": [
        "acc=history_1.history['acc']\n",
        "val_acc=history_1.history['val_acc']\n",
        "loss=history_1.history['loss']\n",
        "val_loss=history_1.history['val_loss']\n",
        "\n",
        "epochs=range(len(acc)) \n",
        "\n",
        "plt.plot(epochs, acc, 'r', \"Training Accuracy\")\n",
        "plt.plot(epochs, val_acc, 'b', \"Validation Accuracy\")\n",
        "plt.title('Training and validation accuracy')\n",
        "plt.figure()\n",
        "\n",
        "plt.plot(epochs, loss, 'r', \"Training Loss\")\n",
        "plt.plot(epochs, val_loss, 'b', \"Validation Loss\")\n",
        "\n",
        "\n",
        "plt.title('Training and validation loss')"
      ],
      "execution_count": 20,
      "outputs": [
        {
          "output_type": "execute_result",
          "data": {
            "text/plain": [
              "Text(0.5, 1.0, 'Training and validation loss')"
            ]
          },
          "metadata": {
            "tags": []
          },
          "execution_count": 20
        },
        {
          "output_type": "display_data",
          "data": {
            "image/png": "[encoded data removed]",
            "text/plain": [
              "<Figure size 432x288 with 1 Axes>"
            ]
          },
          "metadata": {
            "tags": [],
            "needs_background": "light"
          }
        },
        {
          "output_type": "display_data",
          "data": {
            "image/png": "[encoded data removed]",
            "text/plain": [
              "<Figure size 432x288 with 1 Axes>"
            ]
          },
          "metadata": {
            "tags": [],
            "needs_background": "light"
          }
        }
      ]
    },
    {
      "cell_type": "code",
      "metadata": {
        "id": "r1Ovr--D3tAW",
        "colab_type": "code",
        "colab": {}
      },
      "source": [
        ""
      ],
      "execution_count": 0,
      "outputs": []
    }
  ]
}
